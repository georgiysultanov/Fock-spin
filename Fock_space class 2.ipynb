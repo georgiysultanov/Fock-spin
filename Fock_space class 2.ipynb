{
 "cells": [
  {
   "cell_type": "code",
   "execution_count": 1,
   "id": "e624811c",
   "metadata": {},
   "outputs": [],
   "source": [
    "%matplotlib inline\n",
    "import matplotlib.pyplot as plt\n",
    "import numpy as np\n",
    "from numpy import linalg as LA\n",
    "from scipy import sparse\n",
    "from scipy.sparse import coo_matrix\n",
    "from scipy.sparse import coo_array\n",
    "from scipy.sparse import identity"
   ]
  },
  {
   "cell_type": "code",
   "execution_count": 2,
   "id": "b019919e",
   "metadata": {},
   "outputs": [],
   "source": [
    "class fock_space:\n",
    "    def __init__(self, m, N):\n",
    "        self.m = m\n",
    "        self.N = N        \n",
    "        self.j = 0\n",
    "        \n",
    "        \n",
    "        def find_states_number(m,N):\n",
    "            if (m==0):\n",
    "                return 1\n",
    "            else:\n",
    "                gg = np.ones(N+1)\n",
    "                hh = np.ones(N+1)\n",
    "                for j in range(m-1):\n",
    "                    for i in range(1,N+1):\n",
    "                        hh[i] = hh[i-1]+gg[i]\n",
    "                    gg=hh\n",
    "                return(int(np.sum(gg)))\n",
    "        \n",
    "        def warn(n1):\n",
    "            self.n_k[self.j] = n1\n",
    "            self.j+=1\n",
    "\n",
    "        \n",
    "        def csi(m1, N1, n1, n2, func):\n",
    "            if (m1==0):\n",
    "                func(n1)\n",
    "            else:\n",
    "                for i in range(N1+1):\n",
    "                    n2[0]=i\n",
    "                    n1[m-n2.size:]=n2\n",
    "                    k=i\n",
    "                    csi(m1-1, N1-k, n1, n2[1:],func)\n",
    "        \n",
    "        K = find_states_number(m,N)\n",
    "        self.K = K\n",
    "        \n",
    "        self.emptyH = coo_matrix((K, K), dtype = complex)\n",
    "        self.eye = sparse.eye(K)\n",
    "        \n",
    "        self.n_k = np.ones((K,m), dtype = int)#change to np.array\n",
    "        n = np.ones(m)\n",
    "        csi(m, N, n, n, warn)\n",
    "        \n",
    "        def find_c(p,l,mu):\n",
    "            fc = 0\n",
    "            for i in range(p):\n",
    "                fc += find_states_number(m-l,mu-i)\n",
    "            return(fc)\n",
    "\n",
    "        self.c = np.zeros((N+1,m+1,N+1),dtype=int)\n",
    "        for mu in range(1,N+1):\n",
    "            for l in range(1,m+1):\n",
    "                for p in range(1,mu+1):\n",
    "                    self.c[p,l,mu] = find_c(p,l,mu)\n",
    "        \n",
    "        \n",
    "        self.annihilate=[]\n",
    "        for k in range(m):\n",
    "            row = np.zeros(K)\n",
    "            col = np.arange(K, dtype=int)\n",
    "            data = np.zeros(K)\n",
    "            for i in range(K):\n",
    "                if self.n_k[i,k]==0:\n",
    "                    row[i] = i \n",
    "                else:\n",
    "                    self.n_k[i,k]-=1\n",
    "                    p = self.index(self.n_k[i])\n",
    "                    row[i] = p\n",
    "                    self.n_k[i,k]+=1\n",
    "                    data[i]=(self.n_k[i,k])**0.5\n",
    "            A = coo_matrix((data, (row, col)), shape=(K, K))\n",
    "            self.annihilate.append(A) \n",
    "            \n",
    "\n",
    "        self.create=[]\n",
    "        for k in range(m):\n",
    "            row = np.zeros(K)\n",
    "            col = np.arange(K, dtype=int)\n",
    "            data = np.zeros(K)\n",
    "            for i in range(K):\n",
    "                if self.n_k[i,k]==N:\n",
    "                    row[i] = i \n",
    "                else:\n",
    "                    self.n_k[i,k]+=1\n",
    "                    p = self.index(self.n_k[i])\n",
    "                    row[i] = p\n",
    "                    self.n_k[i,k]-=1\n",
    "                    data[i]=(self.n_k[i,k]+1)**0.5\n",
    "            A = coo_matrix((data, (row, col)), shape=(K, K))\n",
    "            self.create.append(A) \n",
    "        \n",
    "        \n",
    "    \n",
    "    \n",
    "    \n",
    "    def occupations(self,i):\n",
    "        if i >= self.K:\n",
    "            print('the number is out of range')\n",
    "        else:\n",
    "            return(self.n_k[i])\n",
    "\n",
    "    def index(self,n1):\n",
    "        def position_of_the_state_do(n1, N1):\n",
    "            if n1.size == 0:\n",
    "                return 0\n",
    "            else:        \n",
    "                return(self.c[int(n1[0]), self.m-n1.size+1, N1] + position_of_the_state_do(n1[1:],N1-n1[0]))\n",
    "        if n1.size != self.m:\n",
    "            print('incorrect size of an array')\n",
    "        else:\n",
    "            N1 = self.N\n",
    "            if(not np.any(n1)):\n",
    "                return 0\n",
    "            else:\n",
    "                return(position_of_the_state_do(n1, N1))\n",
    "\n",
    "    \n",
    "\n",
    "class fock_space_kron:\n",
    "    def __init__(self, f1, f2):\n",
    "        self.m = f1.m + f2.m\n",
    "        self.K = f1.K * f2.K\n",
    "        self.emptyH = coo_matrix((self.K, self.K), dtype = complex)\n",
    "        \n",
    "        self.annihilate=[]\n",
    "        for k in range(f1.m):\n",
    "            self.annihilate.append(sparse.kron(f1.annihilate[k], f2.eye))\n",
    "        for k in range(f1.m, self.m):\n",
    "            self.annihilate.append(sparse.kron(f1.eye, f2.annihilate[k-f1.m]))\n",
    "        self.create=[]\n",
    "        for k in range(f1.m):\n",
    "            self.create.append(sparse.kron(f1.annihilate[k], f2.eye))\n",
    "        for k in range(f1.m, self.m):\n",
    "            self.create.append(sparse.kron(f1.eye, f2.annihilate[k-f1.m]))\n",
    "    \n",
    "    \n",
    "    \n",
    "    def occupations(self,i):\n",
    "        if i >= self.K:\n",
    "            print('the number is out of range')\n",
    "        else:\n",
    "            n = np.zeros(self.m, dtype = int)\n",
    "            n[:f1.m] = f1.occupations(i//f2.K)\n",
    "            n[f1.m:] = f2.occupations(i%f2.K)\n",
    "            return(n)\n",
    "        \n",
    "    def index(self,n1):\n",
    "        if n1.size != self.m:\n",
    "            print('incorrect size of an array')\n",
    "        else:\n",
    "            return(f1.index(n1[:f1.m]) * f2.K + f2.index(n1[f1.m:]))"
   ]
  },
  {
   "cell_type": "code",
   "execution_count": 7,
   "id": "127a6e0a",
   "metadata": {},
   "outputs": [],
   "source": [
    "def real_time_solver(psi0, dt, tmax, H):\n",
    "    K = H.shape[0]\n",
    "    Nt = int(tmax/dt)\n",
    "    psi = np.zeros((Nt,K), dtype = complex)\n",
    "    psi[0] = psi0\n",
    "    \n",
    "    \n",
    "    A1 = -1j*H\n",
    "    for i in range(1,Nt):\n",
    "        psi_iter_old = psi[0]\n",
    "        psi_iter = np.zeros(K)\n",
    "        psi_compare = psi[0]\n",
    "        while (LA.norm(psi_iter-psi_compare)>10**(-6)):\n",
    "            s = psi[i-1]+psi_iter_old\n",
    "            psi_iter = psi[i-1]+ dt/2* A1@s\n",
    "            psi_compare = psi_iter_old\n",
    "            psi_iter_old = psi_iter\n",
    "        psi[i] = psi_iter\n",
    "    return psi\n",
    "    \n",
    "    \n",
    "    "
   ]
  },
  {
   "cell_type": "markdown",
   "id": "f951c6a4",
   "metadata": {},
   "source": [
    "# Usage examples"
   ]
  },
  {
   "cell_type": "code",
   "execution_count": 8,
   "id": "5d464158",
   "metadata": {},
   "outputs": [
    {
     "name": "stdout",
     "output_type": "stream",
     "text": [
      "[0 0 0 1 1 0 1 1 1 0 0]\n"
     ]
    },
    {
     "data": {
      "text/plain": [
       "1356"
      ]
     },
     "execution_count": 8,
     "metadata": {},
     "output_type": "execute_result"
    }
   ],
   "source": [
    "f1 = fock_space(5,4)\n",
    "f2 = fock_space(6,4)\n",
    "f = fock_space_kron(f1,f2)\n",
    "print(f.occupations(1356))\n",
    "n = np.array([0, 0, 0, 1, 1, 0, 1, 1, 1, 0, 0])\n",
    "f.index(n)\n"
   ]
  },
  {
   "cell_type": "markdown",
   "id": "9ff31ed7",
   "metadata": {},
   "source": [
    "## Hamiltonian"
   ]
  },
  {
   "cell_type": "code",
   "execution_count": 10,
   "id": "6ddb5032",
   "metadata": {},
   "outputs": [
    {
     "data": {
      "text/plain": [
       "<26460x26460 sparse matrix of type '<class 'numpy.complex128'>'\n",
       "\twith 43218 stored elements in Compressed Sparse Row format>"
      ]
     },
     "execution_count": 10,
     "metadata": {},
     "output_type": "execute_result"
    }
   ],
   "source": [
    "E = 1\n",
    "K = f.K\n",
    "m = f.m\n",
    "H = f.emptyH\n",
    "for i in range(m):\n",
    "    H += E * f.create[i]@f.annihilate[i]\n",
    "H"
   ]
  },
  {
   "cell_type": "code",
   "execution_count": 14,
   "id": "10fc80d0",
   "metadata": {},
   "outputs": [],
   "source": [
    "psi0 = np.zeros(f.K)\n",
    "j1 = 1\n",
    "psi0[j1]=1\n",
    "\n",
    "dt = 0.01\n",
    "tmax = 100\n",
    "\n",
    "psi = real_time_solver(psi0, dt, tmax, H)"
   ]
  },
  {
   "cell_type": "code",
   "execution_count": 15,
   "id": "6a0856ff",
   "metadata": {},
   "outputs": [
    {
     "name": "stderr",
     "output_type": "stream",
     "text": [
      "D:\\Anaconda\\lib\\site-packages\\numpy\\core\\_asarray.py:102: ComplexWarning: Casting complex values to real discards the imaginary part\n",
      "  return array(a, dtype, copy=False, order=order)\n"
     ]
    },
    {
     "data": {
      "text/plain": [
       "[<matplotlib.lines.Line2D at 0x2527d50dc40>]"
      ]
     },
     "execution_count": 15,
     "metadata": {},
     "output_type": "execute_result"
    },
    {
     "data": {
      "image/png": "[encoded data removed]",
      "text/plain": [
       "<Figure size 432x288 with 1 Axes>"
      ]
     },
     "metadata": {
      "needs_background": "light"
     },
     "output_type": "display_data"
    }
   ],
   "source": [
    "t=np.linspace(0,tmax,int(tmax/dt))\n",
    "plt.plot(t, psi[:,j1])"
   ]
  }
 ],
 "metadata": {
  "kernelspec": {
   "display_name": "Python 3 (ipykernel)",
   "language": "python",
   "name": "python3"
  },
  "language_info": {
   "codemirror_mode": {
    "name": "ipython",
    "version": 3
   },
   "file_extension": ".py",
   "mimetype": "text/x-python",
   "name": "python",
   "nbconvert_exporter": "python",
   "pygments_lexer": "ipython3",
   "version": "3.8.5"
  }
 },
 "nbformat": 4,
 "nbformat_minor": 5
}
